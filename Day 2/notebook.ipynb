{
 "cells": [
  {
   "cell_type": "code",
   "execution_count": 89,
   "metadata": {},
   "outputs": [],
   "source": [
    "lines = []\n",
    "with open('input.txt', 'r') as file:\n",
    "    for line in file:\n",
    "        lines.append([int(d) for d in line.split(\" \")])"
   ]
  },
  {
   "cell_type": "code",
   "execution_count": null,
   "metadata": {},
   "outputs": [
    {
     "data": {
      "text/plain": [
       "428"
      ]
     },
     "execution_count": 97,
     "metadata": {},
     "output_type": "execute_result"
    }
   ],
   "source": [
    "import numpy as np\n",
    "\n",
    "# Not the cleanest but atleast the time complexity is linear :)\n",
    "def calculate_num_of_safe(lines, dampener=False):\n",
    "    numOfSafeReports = 0\n",
    "    for line in lines:\n",
    "        safeIfIncreasing = True\n",
    "        safeIfDecreasing = True\n",
    "\n",
    "        # Assume increasing\n",
    "        increasingNeedDampener = False\n",
    "        index1ToRemove = -1\n",
    "        index2ToRemove = -1\n",
    "        for n in range(len(line)-1):\n",
    "            diff = line[n+1] - line[n]\n",
    "            if diff < 1 or diff > 3:\n",
    "                safeIfIncreasing = False\n",
    "                increasingNeedDampener = True\n",
    "                index1ToRemove = n\n",
    "                index2ToRemove = n + 1\n",
    "                break\n",
    "\n",
    "        # Dampening + check again\n",
    "        if increasingNeedDampener and dampener:\n",
    "            safeIfIncreasing = True\n",
    "            lineDampened1 = line.copy()\n",
    "            lineDampened2 = line.copy()\n",
    "            del lineDampened1[index1ToRemove]\n",
    "            del lineDampened2[index2ToRemove]\n",
    "\n",
    "            for n in range(len(lineDampened1)-1):\n",
    "                diff = lineDampened1[n+1] - lineDampened1[n]\n",
    "                if diff < 1 or diff > 3:\n",
    "                    safeIfIncreasing = False\n",
    "                    break\n",
    "            \n",
    "            if not safeIfIncreasing:\n",
    "                safeIfIncreasing = True\n",
    "                for n in range(len(lineDampened2)-1):\n",
    "                    diff = lineDampened2[n+1] - lineDampened2[n]\n",
    "                    if diff < 1 or diff > 3:\n",
    "                        safeIfIncreasing = False\n",
    "                        break\n",
    "\n",
    "\n",
    "        # Assume decreasing\n",
    "        decreasingNeedDampener = False\n",
    "        index1ToRemove = -1\n",
    "        index2ToRemove = -1\n",
    "        for n in range(len(line)-1):\n",
    "            diff = -(line[n+1] - line[n])\n",
    "            if diff < 1 or diff > 3:\n",
    "                safeIfDecreasing = False\n",
    "                decreasingNeedDampener = True\n",
    "                index1ToRemove = n\n",
    "                index2ToRemove = n + 1\n",
    "                break\n",
    "        # Dampening + check again\n",
    "        if decreasingNeedDampener and dampener:\n",
    "            safeIfDecreasing = True\n",
    "            lineDampened1 = line.copy()\n",
    "            lineDampened2 = line.copy()\n",
    "            del lineDampened1[index1ToRemove]\n",
    "            del lineDampened2[index2ToRemove]\n",
    "\n",
    "            for n in range(len(lineDampened1)-1):\n",
    "                diff = -(lineDampened1[n+1] - lineDampened1[n])\n",
    "                if diff < 1 or diff > 3:\n",
    "                    safeIfDecreasing = False\n",
    "                    break\n",
    "\n",
    "            if not safeIfDecreasing:\n",
    "                safeIfDecreasing = True\n",
    "                for n in range(len(lineDampened2)-1):\n",
    "                    diff = -(lineDampened2[n+1] - lineDampened2[n])\n",
    "                    if diff < 1 or diff > 3:\n",
    "                        safeIfDecreasing = False\n",
    "                        break\n",
    "\n",
    "        if safeIfIncreasing or safeIfDecreasing:\n",
    "            #print(line)\n",
    "            numOfSafeReports += 1\n",
    "            \n",
    "    return numOfSafeReports\n",
    "\n",
    "calculate_num_of_safe(lines, True)"
   ]
  }
 ],
 "metadata": {
  "kernelspec": {
   "display_name": "aalto",
   "language": "python",
   "name": "python3"
  },
  "language_info": {
   "codemirror_mode": {
    "name": "ipython",
    "version": 3
   },
   "file_extension": ".py",
   "mimetype": "text/x-python",
   "name": "python",
   "nbconvert_exporter": "python",
   "pygments_lexer": "ipython3",
   "version": "3.12.7"
  }
 },
 "nbformat": 4,
 "nbformat_minor": 2
}
